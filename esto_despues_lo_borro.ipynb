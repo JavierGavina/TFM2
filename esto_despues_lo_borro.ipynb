{
 "cells": [
  {
   "cell_type": "code",
   "execution_count": 10,
   "id": "initial_id",
   "metadata": {
    "collapsed": true,
    "ExecuteTime": {
     "end_time": "2023-12-14T09:19:49.520541800Z",
     "start_time": "2023-12-14T09:19:49.503410Z"
    }
   },
   "outputs": [],
   "source": [
    "import pandas as pd\n",
    "from src.constants import constants\n",
    "\n",
    "coordenadas_train = pd.DataFrame(constants.labels_dictionary_meters).T\n",
    "coordenadas_train.columns = ['Longitud', 'Latitud']\n",
    "\n",
    "coordenadas_train[\"Label\"] = coordenadas_train.index\n",
    "coordenadas_train = coordenadas_train[['Label', 'Longitud', 'Latitud']]\n",
    "coordenadas_train.to_csv('coordenadas_train.csv', index=False, sep=\",\")\n",
    "\n",
    "coordenadas_test = pd.DataFrame(constants.labels_dictionary_meters_test).T\n",
    "coordenadas_test.columns = ['Longitud', 'Latitud']\n",
    "\n",
    "coordenadas_test[\"Label\"] = coordenadas_test.index\n",
    "coordenadas_test = coordenadas_test[['Label', 'Longitud', 'Latitud']]\n",
    "\n",
    "coordenadas_test.to_csv('coordenadas_test.csv', index=False, sep=\",\")"
   ]
  }
 ],
 "metadata": {
  "kernelspec": {
   "display_name": "Python 3",
   "language": "python",
   "name": "python3"
  },
  "language_info": {
   "codemirror_mode": {
    "name": "ipython",
    "version": 2
   },
   "file_extension": ".py",
   "mimetype": "text/x-python",
   "name": "python",
   "nbconvert_exporter": "python",
   "pygments_lexer": "ipython2",
   "version": "2.7.6"
  }
 },
 "nbformat": 4,
 "nbformat_minor": 5
}
